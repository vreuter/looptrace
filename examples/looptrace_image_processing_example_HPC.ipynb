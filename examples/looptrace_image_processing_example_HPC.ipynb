{
 "cells": [
  {
   "attachments": {},
   "cell_type": "markdown",
   "metadata": {},
   "source": [
    "Set initial folder locations, as well as the number of positions (for running array jobs)"
   ]
  },
  {
   "cell_type": "code",
   "execution_count": 3,
   "metadata": {},
   "outputs": [],
   "source": [
    "n_pos = 30\n",
    "job_path = '/path/to/job/logging/details'\n",
    "config_path = '/path/to/experiment/analysis/exp_config.yml'\n",
    "image_path = '/path/to/experiment/images'"
   ]
  },
  {
   "attachments": {},
   "cell_type": "markdown",
   "metadata": {},
   "source": [
    "Convert to OME-ZARR from ND2 format:"
   ]
  },
  {
   "cell_type": "code",
   "execution_count": null,
   "metadata": {},
   "outputs": [],
   "source": [
    "params = {}\n",
    "params['job_path'] =job_path+'convert'\n",
    "params['job_name'] = 'convert'\n",
    "params['time'] = '60:00'\n",
    "params['cpus_per_task'] = '2'\n",
    "params['mem_per_cpu'] = '4G'\n",
    "params['env'] = '~/env/looptrace'\n",
    "params['bin_path'] = '~/looptrace/bin/cli/convert_datasets_to_zarr.py'\n",
    "params['array'] = '0-'+str(n_pos-1)\n",
    "params['partition'] = 'htc-el8'\n",
    "params['run'] = ''\n",
    "\n",
    "options = {}\n",
    "options['input_folders'] = '/path/to/first_image_folder /path/to/second_image_folder'   #Multiple folders will be concatenated along their time-axis, and must match along other dimensions. Any number of image folders containing ND2 images of the format Time00000_Point0000_Channel555 nm,635 nm_Seq0000.nd2 (Nikon JOBS output) should work.\n",
    "options['output_folder'] = '/path/to/output/zarr_image'\n",
    "options['n_pos'] = str(n_pos)\n",
    "\n",
    "cmd = ' '.join(['python3','~/looptrace/bin/cli/submit_cluster_job.py'] + [str('--'+k+' '+params[k]) for k in params] + [' --options \"'] + [str('--'+k+' '+options[k]) for k in options] + ['\"'])\n",
    "print(cmd)\n",
    "!{cmd}"
   ]
  },
  {
   "attachments": {},
   "cell_type": "markdown",
   "metadata": {},
   "source": [
    "Run PSF extraction prior to deconvolution:"
   ]
  },
  {
   "cell_type": "code",
   "execution_count": null,
   "metadata": {},
   "outputs": [],
   "source": [
    "options = {}\n",
    "\n",
    "options['config_path'] = config_path\n",
    "options['image_path'] = image_path\n",
    "\n",
    "bin_path = '~/looptrace/bin/cli/extract_exp_psf.py'\n",
    "\n",
    "cmd = ' '.join(['python3 ']+[bin_path]+[str('--'+k+' '+options[k]) for k in options])\n",
    "print(cmd)\n",
    "!{cmd}"
   ]
  },
  {
   "attachments": {},
   "cell_type": "markdown",
   "metadata": {},
   "source": [
    "Run deconvolution on HPC:"
   ]
  },
  {
   "cell_type": "code",
   "execution_count": null,
   "metadata": {},
   "outputs": [],
   "source": [
    "params = {}\n",
    "params['job_path'] =job_path+'decon'\n",
    "params['job_name'] = 'decon_cluster'\n",
    "params['time'] = '60:00'\n",
    "params['cpus_per_task'] = '2'\n",
    "params['mem_per_cpu'] = '4G'\n",
    "params['env'] = '~/env/looptrace'\n",
    "params['bin_path'] = '~/looptrace/bin/cli/decon.py'\n",
    "params['array'] = '0-'+str(n_pos-1)\n",
    "params['partition'] = 'gpu-el8'\n",
    "params['gres'] = 'gpu:1'\n",
    "params['module'] = 'TensorFlow/2.6.0-foss-2021a-CUDA-11.3.1'\n",
    "params['run'] = ''\n",
    "\n",
    "options = {}\n",
    "options['config_path'] = config_path\n",
    "options['image_path'] = image_path\n",
    "\n",
    "cmd = ' '.join(['python3','~/looptrace/bin/cli/submit_cluster_job.py'] + [str('--'+k+' '+params[k]) for k in params] + [' --options \"'] + [str('--'+k+' '+options[k]) for k in options] + ['\"'])\n",
    "print(cmd)\n",
    "!{cmd}"
   ]
  },
  {
   "attachments": {},
   "cell_type": "markdown",
   "metadata": {},
   "source": [
    "Save single nuclei images:"
   ]
  },
  {
   "cell_type": "code",
   "execution_count": null,
   "metadata": {},
   "outputs": [],
   "source": [
    "options = {}\n",
    "\n",
    "options['config_path'] = config_path\n",
    "options['image_path'] = image_path\n",
    "\n",
    "bin_path = '~/looptrace/bin/cli/nuc_image_save.py'\n",
    "\n",
    "cmd = ' '.join(['python3 ']+[bin_path]+[str('--'+k+' '+options[k]) for k in options])\n",
    "print(cmd)\n",
    "!{cmd}"
   ]
  },
  {
   "attachments": {},
   "cell_type": "markdown",
   "metadata": {},
   "source": [
    "Segment nuclei using CellPose for 2D nuclei images on local machine (if running in 3D, should do this as cluster job using the syntax from the other jobs):"
   ]
  },
  {
   "cell_type": "code",
   "execution_count": null,
   "metadata": {},
   "outputs": [],
   "source": [
    "options = {}\n",
    "\n",
    "options['config_path'] = config_path\n",
    "options['image_path'] = image_path\n",
    "\n",
    "bin_path = '~/looptrace/bin/cli/nuc_label.py'\n",
    "\n",
    "cmd = ' '.join(['python3 ']+[bin_path]+[str('--'+k+' '+options[k]) for k in options])\n",
    "print(cmd)\n",
    "!{cmd}"
   ]
  },
  {
   "attachments": {},
   "cell_type": "markdown",
   "metadata": {},
   "source": [
    "Run drift correction as a cluster array job:"
   ]
  },
  {
   "cell_type": "code",
   "execution_count": null,
   "metadata": {},
   "outputs": [],
   "source": [
    "params = {}\n",
    "params['job_path'] = job_path+'dc'\n",
    "params['job_name'] = 'dc_cluster'\n",
    "params['time'] = '30:00'\n",
    "params['cpus_per_task'] = '2'\n",
    "params['mem_per_cpu'] = '4G'\n",
    "params['env'] = '~/env/looptrace'\n",
    "params['bin_path'] = '~/looptrace/bin/cli/drift_correct.py'\n",
    "params['partition'] = 'htc-el8'\n",
    "params['array'] = '0-'+str(n_pos-1)\n",
    "params['run'] = ''\n",
    "\n",
    "options = {}\n",
    "options['config_path'] = config_path\n",
    "options['image_path'] = image_path\n",
    "\n",
    "cmd = ' '.join(['python3','~/looptrace/bin/cli/submit_cluster_job.py'] + [str('--'+k+' '+params[k]) for k in params] + [' --options \"'] + [str('--'+k+' '+options[k]) for k in options] + ['\"'])\n",
    "print(cmd)\n",
    "!{cmd}"
   ]
  },
  {
   "attachments": {},
   "cell_type": "markdown",
   "metadata": {},
   "source": [
    "Merging of the separate drift correction files:"
   ]
  },
  {
   "cell_type": "code",
   "execution_count": null,
   "metadata": {},
   "outputs": [],
   "source": [
    "bin_path = '~/looptrace/bin/cli/cluster_analysis_cleanup.py'\n",
    "options = {}\n",
    "options['config_path'] = config_path\n",
    "cmd = ' '.join(['python3 ']+[bin_path]+[str('--'+k+' '+options[k]) for k in options])\n",
    "print(cmd)\n",
    "!{cmd}"
   ]
  },
  {
   "attachments": {},
   "cell_type": "markdown",
   "metadata": {},
   "source": [
    "Run spot detection according to config file:"
   ]
  },
  {
   "cell_type": "code",
   "execution_count": null,
   "metadata": {},
   "outputs": [],
   "source": [
    "params = {}\n",
    "params['job_path'] = job_path+'dc'\n",
    "params['job_name'] = 'dc_cluster'\n",
    "params['time'] = '10:00'\n",
    "params['cpus_per_task'] = '2'\n",
    "params['mem_per_cpu'] = '4G'\n",
    "params['env'] = '~/env/looptrace'\n",
    "params['bin_path'] = '~/looptrace/bin/cli/detect_spots.py'\n",
    "params['partition'] = 'htc-el8'\n",
    "params['array'] = '0-'+str(n_pos-1)\n",
    "params['run'] = ''\n",
    "\n",
    "options = {}\n",
    "options['config_path'] = config_path\n",
    "options['image_path'] = image_path\n",
    "\n",
    "cmd = ' '.join(['python3','~/looptrace/bin/cli/submit_cluster_job.py'] + [str('--'+k+' '+params[k]) for k in params] + [' --options \"'] + [str('--'+k+' '+options[k]) for k in options] + ['\"'])\n",
    "print(cmd)\n",
    "!{cmd}"
   ]
  },
  {
   "attachments": {},
   "cell_type": "markdown",
   "metadata": {},
   "source": [
    "Clean up tables of detected spots:"
   ]
  },
  {
   "cell_type": "code",
   "execution_count": null,
   "metadata": {},
   "outputs": [],
   "source": [
    "bin_path = '~/looptrace/bin/cli/cluster_analysis_cleanup.py'\n",
    "options = {}\n",
    "options['config_path'] = config_path\n",
    "cmd = ' '.join(['python3 ']+[bin_path]+[str('--'+k+' '+options[k]) for k in options])\n",
    "print(cmd)\n",
    "!{cmd}"
   ]
  },
  {
   "attachments": {},
   "cell_type": "markdown",
   "metadata": {},
   "source": [
    "Generate full table of drift corrected spot bounding boxes:"
   ]
  },
  {
   "cell_type": "code",
   "execution_count": null,
   "metadata": {},
   "outputs": [],
   "source": [
    "options = {}\n",
    "\n",
    "options['config_path'] = config_path\n",
    "options['image_path'] = image_path\n",
    "\n",
    "bin_path = '~/looptrace/bin/cli/extract_spots_table.py'\n",
    "\n",
    "cmd = ' '.join(['python3 ']+[bin_path]+[str('--'+k+' '+options[k]) for k in options])\n",
    "print(cmd)\n",
    "!{cmd}"
   ]
  },
  {
   "attachments": {},
   "cell_type": "markdown",
   "metadata": {},
   "source": [
    "Extract spot images from full dataset:"
   ]
  },
  {
   "cell_type": "code",
   "execution_count": null,
   "metadata": {},
   "outputs": [],
   "source": [
    "params = {}\n",
    "params['job_path'] = job_path+'dc'\n",
    "params['job_name'] = 'dc_cluster'\n",
    "params['time'] = '10:00'\n",
    "params['cpus_per_task'] = '2'\n",
    "params['mem_per_cpu'] = '4G'\n",
    "params['env'] = '~/env/looptrace'\n",
    "params['bin_path'] = '~/looptrace/bin/cli/extract_spots.py'\n",
    "params['partition'] = 'htc-el8'\n",
    "params['array'] = '0-'+str(n_pos-1)\n",
    "params['run'] = ''\n",
    "\n",
    "options = {}\n",
    "options['config_path'] = config_path\n",
    "options['image_path'] = image_path\n",
    "\n",
    "cmd = ' '.join(['python3','~/looptrace/bin/cli/submit_cluster_job.py'] + [str('--'+k+' '+params[k]) for k in params] + [' --options \"'] + [str('--'+k+' '+options[k]) for k in options] + ['\"'])\n",
    "print(cmd)\n",
    "!{cmd}"
   ]
  },
  {
   "attachments": {},
   "cell_type": "markdown",
   "metadata": {},
   "source": [
    "Clean up extracted spots images:"
   ]
  },
  {
   "cell_type": "code",
   "execution_count": null,
   "metadata": {},
   "outputs": [],
   "source": [
    "bin_path = '~/looptrace/bin/cli/extract_spots_cluster_cleanup.py'\n",
    "options = {}\n",
    "options['config_path'] = config_path\n",
    "cmd = ' '.join(['python3 ']+[bin_path]+[str('--'+k+' '+options[k]) for k in options])\n",
    "print(cmd)\n",
    "!{cmd}"
   ]
  },
  {
   "attachments": {},
   "cell_type": "markdown",
   "metadata": {},
   "source": [
    "Run tracing workflow:"
   ]
  },
  {
   "cell_type": "code",
   "execution_count": null,
   "metadata": {},
   "outputs": [],
   "source": [
    "params = {}\n",
    "params['job_path'] = job_path+'dc'\n",
    "params['job_name'] = 'dc_cluster'\n",
    "params['time'] = '10:00'\n",
    "params['cpus_per_task'] = '2'\n",
    "params['mem_per_cpu'] = '4G'\n",
    "params['env'] = '~/env/looptrace'\n",
    "params['bin_path'] = '~/looptrace/bin/cli/tracing.py'\n",
    "params['partition'] = 'htc-el8'\n",
    "params['array'] = '0-'+str(n_pos-1)\n",
    "params['run'] = ''\n",
    "\n",
    "options = {}\n",
    "options['config_path'] = config_path\n",
    "options['image_path'] = image_path\n",
    "\n",
    "cmd = ' '.join(['python3','~/looptrace/bin/cli/submit_cluster_job.py'] + [str('--'+k+' '+params[k]) for k in params] + [' --options \"'] + [str('--'+k+' '+options[k]) for k in options] + ['\"'])\n",
    "print(cmd)\n",
    "!{cmd}"
   ]
  },
  {
   "attachments": {},
   "cell_type": "markdown",
   "metadata": {},
   "source": [
    "Clean up tracing tables:"
   ]
  },
  {
   "cell_type": "code",
   "execution_count": null,
   "metadata": {},
   "outputs": [],
   "source": [
    "bin_path = '~/looptrace/bin/cli/cluster_analysis_cleanup.py'\n",
    "options = {}\n",
    "options['config_path'] = config_path\n",
    "cmd = ' '.join(['python3 ']+[bin_path]+[str('--'+k+' '+options[k]) for k in options])\n",
    "print(cmd)\n",
    "!{cmd}"
   ]
  },
  {
   "attachments": {},
   "cell_type": "markdown",
   "metadata": {},
   "source": [
    "(Optional) This adds the nuclei label (and classification of nuc_class folder with classified nuclei exists) to ROI and traces table:"
   ]
  },
  {
   "attachments": {},
   "cell_type": "markdown",
   "metadata": {},
   "source": [
    "options = {}\n",
    "\n",
    "options['config_path'] = config_path\n",
    "options['image_path'] = image_path\n",
    "\n",
    "bin_path = '~/looptrace/bin/cli/assign_spots_to_nucs.py'\n",
    "\n",
    "cmd = ' '.join(['python3 ']+[bin_path]+[str('--'+k+' '+options[k]) for k in options])\n",
    "!{cmd}"
   ]
  }
 ],
 "metadata": {
  "kernelspec": {
   "display_name": "Python [conda env:looptrace] *",
   "language": "python",
   "name": "conda-env-looptrace-py"
  },
  "language_info": {
   "codemirror_mode": {
    "name": "ipython",
    "version": 3
   },
   "file_extension": ".py",
   "mimetype": "text/x-python",
   "name": "python",
   "nbconvert_exporter": "python",
   "pygments_lexer": "ipython3",
   "version": "3.9.13"
  },
  "orig_nbformat": 4,
  "vscode": {
   "interpreter": {
    "hash": "09605df63986551458fb3d855bb1f296f8877a0895e91ec35a4874e3309bd8ea"
   }
  }
 },
 "nbformat": 4,
 "nbformat_minor": 2
}
