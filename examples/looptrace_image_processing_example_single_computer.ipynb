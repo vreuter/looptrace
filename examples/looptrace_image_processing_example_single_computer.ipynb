{
 "cells": [
  {
   "attachments": {},
   "cell_type": "markdown",
   "metadata": {},
   "source": [
    "Set initial folder locations, as well as the number of positions (for running array jobs)"
   ]
  },
  {
   "cell_type": "code",
   "execution_count": 3,
   "metadata": {},
   "outputs": [],
   "source": [
    "n_pos = 30\n",
    "config_path = '/path/to/config.yml'\n",
    "image_path = '/path/to/images/directory'"
   ]
  },
  {
   "attachments": {},
   "cell_type": "markdown",
   "metadata": {},
   "source": [
    "Convert to OME-ZARR from ND2 format:"
   ]
  },
  {
   "cell_type": "code",
   "execution_count": null,
   "metadata": {},
   "outputs": [],
   "source": [
    "options = {}\n",
    "options['input_folders'] = '/path/to/first_image_folder /path/to/second_image_folder'   #Multiple folders will be concatenated along their time-axis, and must match along other dimensions. Any number of image folders containing ND2 images of the format Time00000_Point0000_Channel555 nm,635 nm_Seq0000.nd2 (Nikon JOBS output) should work.\n",
    "options['output_folder'] = '/path/to/output/zarr_image'\n",
    "\n",
    "bin_path = '~/looptrace/bin/cli/convert_datasets_to_zarr.py'\n",
    "\n",
    "cmd = ' '.join(['python3 ']+[bin_path]+[str('--'+k+' '+options[k]) for k in options])\n",
    "print(cmd)\n",
    "!{cmd}"
   ]
  },
  {
   "attachments": {},
   "cell_type": "markdown",
   "metadata": {},
   "source": [
    "(Optional, use if you have bright fiducial beads that can function as PSFs, otherwise a theoretical PSF will be generated in the deconvolution step according to the config file). Run PSF extraction prior to deconvolution:"
   ]
  },
  {
   "cell_type": "code",
   "execution_count": null,
   "metadata": {},
   "outputs": [],
   "source": [
    "options = {}\n",
    "\n",
    "options['config_path'] = config_path\n",
    "options['image_path'] = image_path\n",
    "\n",
    "bin_path = '~/looptrace/bin/cli/extract_exp_psf.py'\n",
    "\n",
    "cmd = ' '.join(['python3 ']+[bin_path]+[str('--'+k+' '+options[k]) for k in options])\n",
    "print(cmd)\n",
    "!{cmd}"
   ]
  },
  {
   "attachments": {},
   "cell_type": "markdown",
   "metadata": {},
   "source": [
    "Run deconvolution (a Tensorflow environment is needed for this, a GPU is highly recommended):"
   ]
  },
  {
   "cell_type": "code",
   "execution_count": null,
   "metadata": {},
   "outputs": [],
   "source": [
    "options = {}\n",
    "\n",
    "options['config_path'] = config_path\n",
    "options['image_path'] = image_path\n",
    "\n",
    "bin_path = '~/looptrace/bin/cli/decon.py'\n",
    "\n",
    "cmd = ' '.join(['python3 ']+[bin_path]+[str('--'+k+' '+options[k]) for k in options])\n",
    "print(cmd)\n",
    "!{cmd}"
   ]
  },
  {
   "attachments": {},
   "cell_type": "markdown",
   "metadata": {},
   "source": [
    "Save nuclei images as separate images (makes downstream processing more convenient) in 2D/3D according to config:"
   ]
  },
  {
   "cell_type": "code",
   "execution_count": null,
   "metadata": {},
   "outputs": [],
   "source": [
    "options = {}\n",
    "\n",
    "options['config_path'] = config_path\n",
    "options['image_path'] = image_path\n",
    "\n",
    "bin_path = '~/looptrace/bin/cli/nuc_image_save.py'\n",
    "\n",
    "cmd = ' '.join(['python3 ']+[bin_path]+[str('--'+k+' '+options[k]) for k in options])\n",
    "print(cmd)\n",
    "!{cmd}"
   ]
  },
  {
   "attachments": {},
   "cell_type": "markdown",
   "metadata": {},
   "source": [
    "Segment nuclei using the indicated model (CellPose, intensity-based or Random Forest: The random forest first needs to be briefly trained in a separate notebook) on local machine (can be put on HPC, especially for 3D):"
   ]
  },
  {
   "cell_type": "code",
   "execution_count": null,
   "metadata": {},
   "outputs": [],
   "source": [
    "options = {}\n",
    "\n",
    "options['config_path'] = config_path\n",
    "options['image_path'] = image_path\n",
    "\n",
    "bin_path = '~/looptrace/bin/cli/nuc_label.py'\n",
    "\n",
    "cmd = ' '.join(['python3 ']+[bin_path]+[str('--'+k+' '+options[k]) for k in options])\n",
    "print(cmd)\n",
    "!{cmd}"
   ]
  },
  {
   "attachments": {},
   "cell_type": "markdown",
   "metadata": {},
   "source": [
    "Run drift correction using config parameters for fiducial identification (check images for appropriate intensity values):"
   ]
  },
  {
   "cell_type": "code",
   "execution_count": null,
   "metadata": {},
   "outputs": [],
   "source": [
    "options = {}\n",
    "\n",
    "options['config_path'] = config_path\n",
    "options['image_path'] = image_path\n",
    "\n",
    "bin_path = '~/looptrace/bin/cli/nuc_label.py'\n",
    "\n",
    "cmd = ' '.join(['python3 ']+[bin_path]+[str('--'+k+' '+options[k]) for k in options])\n",
    "print(cmd)\n",
    "!{cmd}"
   ]
  },
  {
   "attachments": {},
   "cell_type": "markdown",
   "metadata": {},
   "source": [
    "Run spot detection according to config file:"
   ]
  },
  {
   "cell_type": "code",
   "execution_count": null,
   "metadata": {},
   "outputs": [],
   "source": [
    "options = {}\n",
    "\n",
    "options['config_path'] = config_path\n",
    "options['image_path'] = image_path\n",
    "\n",
    "bin_path = '~/looptrace/bin/cli/detect_spots.py'\n",
    "\n",
    "cmd = ' '.join(['python3 ']+[bin_path]+[str('--'+k+' '+options[k]) for k in options])\n",
    "print(cmd)\n",
    "!{cmd}"
   ]
  },
  {
   "attachments": {},
   "cell_type": "markdown",
   "metadata": {},
   "source": [
    "Generate full table of drift corrected spot bounding boxes:"
   ]
  },
  {
   "cell_type": "code",
   "execution_count": null,
   "metadata": {},
   "outputs": [],
   "source": [
    "options = {}\n",
    "\n",
    "options['config_path'] = config_path\n",
    "options['image_path'] = image_path\n",
    "\n",
    "bin_path = '~/looptrace/bin/cli/extract_spots_table.py'\n",
    "\n",
    "cmd = ' '.join(['python3 ']+[bin_path]+[str('--'+k+' '+options[k]) for k in options])\n",
    "print(cmd)\n",
    "!{cmd}"
   ]
  },
  {
   "attachments": {},
   "cell_type": "markdown",
   "metadata": {},
   "source": [
    "Extract spot images from full dataset for subpixel fitting:"
   ]
  },
  {
   "cell_type": "code",
   "execution_count": null,
   "metadata": {},
   "outputs": [],
   "source": [
    "options = {}\n",
    "\n",
    "options['config_path'] = config_path\n",
    "options['image_path'] = image_path\n",
    "\n",
    "bin_path = '~/looptrace/bin/cli/extract_spots.py'\n",
    "\n",
    "cmd = ' '.join(['python3 ']+[bin_path]+[str('--'+k+' '+options[k]) for k in options])\n",
    "print(cmd)\n",
    "!{cmd}"
   ]
  },
  {
   "attachments": {},
   "cell_type": "markdown",
   "metadata": {},
   "source": [
    "Clean up extracted spots images (this merges all the extracted spot images into a single zipped NPZ file):"
   ]
  },
  {
   "cell_type": "code",
   "execution_count": null,
   "metadata": {},
   "outputs": [],
   "source": [
    "options = {}\n",
    "\n",
    "options['config_path'] = config_path\n",
    "options['image_path'] = image_path\n",
    "\n",
    "bin_path = '~/looptrace/bin/cli/extract_spots.py'\n",
    "\n",
    "cmd = ' '.join(['python3 ']+[bin_path]+[str('--'+k+' '+options[k]) for k in options])\n",
    "print(cmd)\n",
    "!{cmd}"
   ]
  },
  {
   "attachments": {},
   "cell_type": "markdown",
   "metadata": {},
   "source": [
    "Run tracing workflow:"
   ]
  },
  {
   "cell_type": "code",
   "execution_count": null,
   "metadata": {},
   "outputs": [],
   "source": [
    "options = {}\n",
    "\n",
    "options['config_path'] = config_path\n",
    "options['image_path'] = image_path\n",
    "\n",
    "bin_path = '~/looptrace/bin/cli/tracing.py'\n",
    "\n",
    "cmd = ' '.join(['python3 ']+[bin_path]+[str('--'+k+' '+options[k]) for k in options])\n",
    "print(cmd)\n",
    "!{cmd}"
   ]
  },
  {
   "attachments": {},
   "cell_type": "markdown",
   "metadata": {},
   "source": [
    "(Optional) This adds the nuclei label (and classification of nuc_class folder with classified nuclei exists) to ROI and traces table:"
   ]
  },
  {
   "attachments": {},
   "cell_type": "markdown",
   "metadata": {},
   "source": [
    "options = {}\n",
    "\n",
    "options['config_path'] = config_path\n",
    "options['image_path'] = image_path\n",
    "\n",
    "bin_path = '~/looptrace/bin/cli/assign_spots_to_nucs.py'\n",
    "\n",
    "cmd = ' '.join(['python3 ']+[bin_path]+[str('--'+k+' '+options[k]) for k in options])\n",
    "!{cmd}"
   ]
  }
 ],
 "metadata": {
  "kernelspec": {
   "display_name": "Python 3.8.13 ('looptrace_analysis')",
   "language": "python",
   "name": "python3"
  },
  "language_info": {
   "codemirror_mode": {
    "name": "ipython",
    "version": 3
   },
   "file_extension": ".py",
   "mimetype": "text/x-python",
   "name": "python",
   "nbconvert_exporter": "python",
   "pygments_lexer": "ipython3",
   "version": "3.8.13"
  },
  "orig_nbformat": 4,
  "vscode": {
   "interpreter": {
    "hash": "09605df63986551458fb3d855bb1f296f8877a0895e91ec35a4874e3309bd8ea"
   }
  }
 },
 "nbformat": 4,
 "nbformat_minor": 2
}
