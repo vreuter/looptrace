{
 "cells": [
  {
   "cell_type": "code",
   "execution_count": 1,
   "metadata": {},
   "outputs": [],
   "source": [
    "import zarr\n",
    "import numpy as np\n",
    "import napari \n",
    "from skimage import data, segmentation, feature, future\n",
    "from sklearn.ensemble import RandomForestClassifier\n",
    "from functools import partial\n",
    "import pickle\n",
    "from nd2 import ND2File"
   ]
  },
  {
   "attachments": {},
   "cell_type": "markdown",
   "metadata": {},
   "source": [
    "Load nucleus dataset:"
   ]
  },
  {
   "cell_type": "code",
   "execution_count": 4,
   "metadata": {},
   "outputs": [],
   "source": [
    "z = zarr.open('/path/to/experiment/images/nucleus_images_zarr/P00XX.zarr/0')\n",
    "ch = 2\n",
    "img = np.array(z[0,ch,::2,::2,::2])\n",
    "n = napari.view_image(img)\n",
    "l = n.add_labels(np.zeros_like(img))\n",
    "#If retraining on image\n",
    "#l = n.add_labels(l.data)"
   ]
  },
  {
   "attachments": {},
   "cell_type": "markdown",
   "metadata": {},
   "source": [
    "Run classifier on labeled images:"
   ]
  },
  {
   "cell_type": "code",
   "execution_count": 5,
   "metadata": {},
   "outputs": [],
   "source": [
    "sigma_min = 1\n",
    "sigma_max = 16\n",
    "features_func = partial(feature.multiscale_basic_features,\n",
    "                    intensity=True, edges=False, texture=True,\n",
    "                    sigma_min=sigma_min, sigma_max=sigma_max)\n",
    "features = features_func(img)\n",
    "clf = RandomForestClassifier(n_estimators=50, n_jobs=-1,\n",
    "                            max_depth=10, max_samples=0.05)\n",
    "clf = future.fit_segmenter(l.data, features, clf)\n",
    "result = future.predict_segmenter(features, clf)\n",
    "\n",
    "pickle.dump(clf, open('/path/to/experiment/analysis/nucs_rf_model.pickle', 'wb'))"
   ]
  },
  {
   "attachments": {},
   "cell_type": "markdown",
   "metadata": {},
   "source": [
    "Check performance on classifier on other images:"
   ]
  },
  {
   "cell_type": "code",
   "execution_count": 6,
   "metadata": {},
   "outputs": [
    {
     "data": {
      "text/plain": [
       "<Labels layer 'result2' at 0x2cf80b35730>"
      ]
     },
     "execution_count": 6,
     "metadata": {},
     "output_type": "execute_result"
    }
   ],
   "source": [
    "z2 = zarr.open('/path/to/experiment/images/nucleus_images_zarr/P00XX.zarr/0')\n",
    "img2 = np.array(z2[0,ch,::2,::2,::2])\n",
    "features = features_func(img2)\n",
    "result2 = future.predict_segmenter(features, clf)\n",
    "n = napari.view_image(img2)\n",
    "n.add_labels(result2)"
   ]
  },
  {
   "attachments": {},
   "cell_type": "markdown",
   "metadata": {},
   "source": [
    "Load spot image:"
   ]
  },
  {
   "cell_type": "code",
   "execution_count": 8,
   "metadata": {},
   "outputs": [],
   "source": [
    "z = zarr.open('/path/to/experiment/images/sequential_images_zarr/P00XX.zarr/0')\n",
    "spot_frame = 53\n",
    "img = np.array(z[spot_frame,1,::2,::2,::2])\n",
    "n = napari.view_image(img)\n",
    "l = n.add_labels(np.zeros_like(img))\n",
    "#If retraining on image\n",
    "#l = n.add_labels(l.data)"
   ]
  },
  {
   "attachments": {},
   "cell_type": "markdown",
   "metadata": {},
   "source": [
    "Train classifier:"
   ]
  },
  {
   "cell_type": "code",
   "execution_count": 9,
   "metadata": {},
   "outputs": [],
   "source": [
    "sigma_min = 1\n",
    "sigma_max = 16\n",
    "features_func = partial(feature.multiscale_basic_features,\n",
    "                    intensity=True, edges=True, texture=False,\n",
    "                    sigma_min=sigma_min, sigma_max=sigma_max)\n",
    "features = features_func(img)\n",
    "clf = RandomForestClassifier(n_estimators=50, n_jobs=-1,\n",
    "                            max_depth=10, max_samples=0.05)\n",
    "clf = future.fit_segmenter(l.data, features, clf)\n",
    "result = future.predict_segmenter(features, clf)\n",
    "pickle.dump(clf, open('/path/to/experiment/analysis/spots_rf_model.pickle', 'wb'))"
   ]
  },
  {
   "attachments": {},
   "cell_type": "markdown",
   "metadata": {},
   "source": [
    "Validate results"
   ]
  },
  {
   "cell_type": "code",
   "execution_count": 12,
   "metadata": {},
   "outputs": [
    {
     "data": {
      "text/plain": [
       "<Labels layer 'result2' at 0x2cf8c309040>"
      ]
     },
     "execution_count": 12,
     "metadata": {},
     "output_type": "execute_result"
    }
   ],
   "source": [
    "\n",
    "sigma_min = 1\n",
    "sigma_max = 16\n",
    "features_func = partial(feature.multiscale_basic_features,\n",
    "                    intensity=True, edges=True, texture=False,\n",
    "                    sigma_min=sigma_min, sigma_max=sigma_max)\n",
    "clf = pickle.load(open('/path/to/experiment/analysis/spots_rf_model.pickle', 'rb'))\n",
    "z2 = zarr.open('/path/to/experiment/images/sequential_images_zarr/P00XX.zarr/0')\n",
    "img2 = np.array(z2[spot_frame,1,::2,::2,::2])\n",
    "features = features_func(img2)\n",
    "result2 = future.predict_segmenter(features, clf)\n",
    "n = napari.view_image(img2)\n",
    "n.add_labels(result2)"
   ]
  }
 ],
 "metadata": {
  "kernelspec": {
   "display_name": "looptrace_analysis",
   "language": "python",
   "name": "python3"
  },
  "language_info": {
   "codemirror_mode": {
    "name": "ipython",
    "version": 3
   },
   "file_extension": ".py",
   "mimetype": "text/x-python",
   "name": "python",
   "nbconvert_exporter": "python",
   "pygments_lexer": "ipython3",
   "version": "3.8.16"
  },
  "orig_nbformat": 4,
  "vscode": {
   "interpreter": {
    "hash": "09605df63986551458fb3d855bb1f296f8877a0895e91ec35a4874e3309bd8ea"
   }
  }
 },
 "nbformat": 4,
 "nbformat_minor": 2
}
